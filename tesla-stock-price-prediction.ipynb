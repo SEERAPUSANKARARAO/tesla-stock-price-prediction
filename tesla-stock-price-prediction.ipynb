{
 "cells": [
  {
   "cell_type": "markdown",
   "metadata": {},
   "source": [
    "# Understanding Data"
   ]
  },
  {
   "cell_type": "code",
   "execution_count": 1,
   "metadata": {
    "execution": {
     "iopub.execute_input": "2022-10-23T11:49:58.451268Z",
     "iopub.status.busy": "2022-10-23T11:49:58.450873Z",
     "iopub.status.idle": "2022-10-23T11:49:58.458389Z",
     "shell.execute_reply": "2022-10-23T11:49:58.457324Z",
     "shell.execute_reply.started": "2022-10-23T11:49:58.451238Z"
    }
   },
   "outputs": [],
   "source": [
    "import numpy as np\n",
    "import pandas as pd\n",
    "import tensorflow as tf\n",
    "import matplotlib.pyplot as plt\n",
    "\n",
    "from sklearn.preprocessing import MinMaxScaler\n",
    "from sklearn.metrics import mean_squared_error\n",
    "\n",
    "from tensorflow.keras.models import Sequential\n",
    "from tensorflow.keras.layers import Dense, LSTM,Dropout\n",
    "from tensorflow.keras.callbacks import ModelCheckpoint,EarlyStopping\n",
    "\n",
    "import warnings\n",
    "warnings.filterwarnings(\"ignore\")\n",
    "\n",
    "import os \n",
    "os.environ[\"TF_CPP_MIN_LOG_LEVEL\"]=\"3\"\n",
    "tf.compat.v1.logging.set_verbosity(tf.compat.v1.logging.ERROR)"
   ]
  },
  {
   "cell_type": "code",
   "execution_count": 2,
   "metadata": {
    "execution": {
     "iopub.execute_input": "2022-10-23T11:49:58.460685Z",
     "iopub.status.busy": "2022-10-23T11:49:58.459929Z",
     "iopub.status.idle": "2022-10-23T11:49:58.504975Z",
     "shell.execute_reply": "2022-10-23T11:49:58.503498Z",
     "shell.execute_reply.started": "2022-10-23T11:49:58.460649Z"
    }
   },
   "outputs": [],
   "source": [
    "data=pd.read_csv(\"TSLA.csv\")"
   ]
  },
  {
   "cell_type": "code",
   "execution_count": 3,
   "metadata": {
    "execution": {
     "iopub.execute_input": "2022-10-23T11:49:58.507039Z",
     "iopub.status.busy": "2022-10-23T11:49:58.506385Z",
     "iopub.status.idle": "2022-10-23T11:49:58.534562Z",
     "shell.execute_reply": "2022-10-23T11:49:58.533354Z",
     "shell.execute_reply.started": "2022-10-23T11:49:58.506989Z"
    }
   },
   "outputs": [
    {
     "data": {
      "text/html": [
       "<div>\n",
       "<style scoped>\n",
       "    .dataframe tbody tr th:only-of-type {\n",
       "        vertical-align: middle;\n",
       "    }\n",
       "\n",
       "    .dataframe tbody tr th {\n",
       "        vertical-align: top;\n",
       "    }\n",
       "\n",
       "    .dataframe thead th {\n",
       "        text-align: right;\n",
       "    }\n",
       "</style>\n",
       "<table border=\"1\" class=\"dataframe\">\n",
       "  <thead>\n",
       "    <tr style=\"text-align: right;\">\n",
       "      <th></th>\n",
       "      <th>Date</th>\n",
       "      <th>Open</th>\n",
       "      <th>High</th>\n",
       "      <th>Low</th>\n",
       "      <th>Close</th>\n",
       "      <th>Adj Close</th>\n",
       "      <th>Volume</th>\n",
       "    </tr>\n",
       "  </thead>\n",
       "  <tbody>\n",
       "    <tr>\n",
       "      <th>0</th>\n",
       "      <td>2010-06-29</td>\n",
       "      <td>19.000000</td>\n",
       "      <td>25.00</td>\n",
       "      <td>17.540001</td>\n",
       "      <td>23.889999</td>\n",
       "      <td>23.889999</td>\n",
       "      <td>18766300</td>\n",
       "    </tr>\n",
       "    <tr>\n",
       "      <th>1</th>\n",
       "      <td>2010-06-30</td>\n",
       "      <td>25.790001</td>\n",
       "      <td>30.42</td>\n",
       "      <td>23.299999</td>\n",
       "      <td>23.830000</td>\n",
       "      <td>23.830000</td>\n",
       "      <td>17187100</td>\n",
       "    </tr>\n",
       "    <tr>\n",
       "      <th>2</th>\n",
       "      <td>2010-07-01</td>\n",
       "      <td>25.000000</td>\n",
       "      <td>25.92</td>\n",
       "      <td>20.270000</td>\n",
       "      <td>21.959999</td>\n",
       "      <td>21.959999</td>\n",
       "      <td>8218800</td>\n",
       "    </tr>\n",
       "    <tr>\n",
       "      <th>3</th>\n",
       "      <td>2010-07-02</td>\n",
       "      <td>23.000000</td>\n",
       "      <td>23.10</td>\n",
       "      <td>18.709999</td>\n",
       "      <td>19.200001</td>\n",
       "      <td>19.200001</td>\n",
       "      <td>5139800</td>\n",
       "    </tr>\n",
       "    <tr>\n",
       "      <th>4</th>\n",
       "      <td>2010-07-06</td>\n",
       "      <td>20.000000</td>\n",
       "      <td>20.00</td>\n",
       "      <td>15.830000</td>\n",
       "      <td>16.110001</td>\n",
       "      <td>16.110001</td>\n",
       "      <td>6866900</td>\n",
       "    </tr>\n",
       "  </tbody>\n",
       "</table>\n",
       "</div>"
      ],
      "text/plain": [
       "         Date       Open   High        Low      Close  Adj Close    Volume\n",
       "0  2010-06-29  19.000000  25.00  17.540001  23.889999  23.889999  18766300\n",
       "1  2010-06-30  25.790001  30.42  23.299999  23.830000  23.830000  17187100\n",
       "2  2010-07-01  25.000000  25.92  20.270000  21.959999  21.959999   8218800\n",
       "3  2010-07-02  23.000000  23.10  18.709999  19.200001  19.200001   5139800\n",
       "4  2010-07-06  20.000000  20.00  15.830000  16.110001  16.110001   6866900"
      ]
     },
     "execution_count": 3,
     "metadata": {},
     "output_type": "execute_result"
    }
   ],
   "source": [
    "data.head()"
   ]
  },
  {
   "cell_type": "code",
   "execution_count": 4,
   "metadata": {
    "execution": {
     "iopub.execute_input": "2022-10-23T11:49:58.538232Z",
     "iopub.status.busy": "2022-10-23T11:49:58.537101Z",
     "iopub.status.idle": "2022-10-23T11:49:58.546313Z",
     "shell.execute_reply": "2022-10-23T11:49:58.544787Z",
     "shell.execute_reply.started": "2022-10-23T11:49:58.538183Z"
    }
   },
   "outputs": [],
   "source": [
    "def check_df(dataframe,head=5):\n",
    "    print(\"#################### Shape #################### \")\n",
    "    print(dataframe.shape)\n",
    "    print(\"#################### Types #################### \")\n",
    "    print(dataframe.dtypes)\n",
    "    print(\"#################### Head #################### \")\n",
    "    print(dataframe.head(head))\n",
    "    print(\"#################### Tail #################### \")\n",
    "    print(dataframe.dtypes)\n",
    "    print(\"#################### NA #################### \")\n",
    "    print(dataframe.isnull().sum())\n",
    "    print(\"#################### Quantiles #################### \")\n",
    "    print(dataframe.quantile([0,0.5,0.50,0.95,0.99,1]).T)\n"
   ]
  },
  {
   "cell_type": "code",
   "execution_count": 5,
   "metadata": {
    "execution": {
     "iopub.execute_input": "2022-10-23T11:49:58.548486Z",
     "iopub.status.busy": "2022-10-23T11:49:58.548069Z",
     "iopub.status.idle": "2022-10-23T11:49:58.581514Z",
     "shell.execute_reply": "2022-10-23T11:49:58.580502Z",
     "shell.execute_reply.started": "2022-10-23T11:49:58.54845Z"
    }
   },
   "outputs": [
    {
     "name": "stdout",
     "output_type": "stream",
     "text": [
      "#################### Shape #################### \n",
      "(2416, 7)\n",
      "#################### Types #################### \n",
      "Date          object\n",
      "Open         float64\n",
      "High         float64\n",
      "Low          float64\n",
      "Close        float64\n",
      "Adj Close    float64\n",
      "Volume         int64\n",
      "dtype: object\n",
      "#################### Head #################### \n",
      "         Date       Open   High        Low      Close  Adj Close    Volume\n",
      "0  2010-06-29  19.000000  25.00  17.540001  23.889999  23.889999  18766300\n",
      "1  2010-06-30  25.790001  30.42  23.299999  23.830000  23.830000  17187100\n",
      "2  2010-07-01  25.000000  25.92  20.270000  21.959999  21.959999   8218800\n",
      "3  2010-07-02  23.000000  23.10  18.709999  19.200001  19.200001   5139800\n",
      "4  2010-07-06  20.000000  20.00  15.830000  16.110001  16.110001   6866900\n",
      "#################### Tail #################### \n",
      "Date          object\n",
      "Open         float64\n",
      "High         float64\n",
      "Low          float64\n",
      "Close        float64\n",
      "Adj Close    float64\n",
      "Volume         int64\n",
      "dtype: object\n",
      "#################### NA #################### \n",
      "Date         0\n",
      "Open         0\n",
      "High         0\n",
      "Low          0\n",
      "Close        0\n",
      "Adj Close    0\n",
      "Volume       0\n",
      "dtype: int64\n",
      "#################### Quantiles #################### \n",
      "                    0.00          0.50          0.50          0.95  \\\n",
      "Open           16.139999  2.130350e+02  2.130350e+02  3.519100e+02   \n",
      "High           16.629999  2.167450e+02  2.167450e+02  3.567500e+02   \n",
      "Low            14.980000  2.088700e+02  2.088700e+02  3.460250e+02   \n",
      "Close          15.800000  2.129600e+02  2.129600e+02  3.511675e+02   \n",
      "Adj Close      15.800000  2.129600e+02  2.129600e+02  3.511675e+02   \n",
      "Volume     118500.000000  4.578400e+06  4.578400e+06  1.476090e+07   \n",
      "\n",
      "                   0.99          1.00  \n",
      "Open       4.235790e+02  6.736900e+02  \n",
      "High       4.284705e+02  7.861400e+02  \n",
      "Low        4.122865e+02  6.735200e+02  \n",
      "Close      4.243455e+02  7.800000e+02  \n",
      "Adj Close  4.243455e+02  7.800000e+02  \n",
      "Volume     2.459959e+07  4.706500e+07  \n"
     ]
    }
   ],
   "source": [
    "check_df(data)"
   ]
  },
  {
   "cell_type": "markdown",
   "metadata": {},
   "source": [
    "we need to change the date variable"
   ]
  },
  {
   "cell_type": "code",
   "execution_count": 6,
   "metadata": {
    "execution": {
     "iopub.execute_input": "2022-10-23T11:49:58.583456Z",
     "iopub.status.busy": "2022-10-23T11:49:58.583028Z",
     "iopub.status.idle": "2022-10-23T11:49:58.595558Z",
     "shell.execute_reply": "2022-10-23T11:49:58.59451Z",
     "shell.execute_reply.started": "2022-10-23T11:49:58.583392Z"
    }
   },
   "outputs": [],
   "source": [
    "data[\"Date\"]=pd.to_datetime(data[\"Date\"])"
   ]
  },
  {
   "cell_type": "code",
   "execution_count": 7,
   "metadata": {
    "execution": {
     "iopub.execute_input": "2022-10-23T11:49:58.597921Z",
     "iopub.status.busy": "2022-10-23T11:49:58.597207Z",
     "iopub.status.idle": "2022-10-23T11:49:58.615892Z",
     "shell.execute_reply": "2022-10-23T11:49:58.614564Z",
     "shell.execute_reply.started": "2022-10-23T11:49:58.597879Z"
    }
   },
   "outputs": [
    {
     "data": {
      "text/html": [
       "<div>\n",
       "<style scoped>\n",
       "    .dataframe tbody tr th:only-of-type {\n",
       "        vertical-align: middle;\n",
       "    }\n",
       "\n",
       "    .dataframe tbody tr th {\n",
       "        vertical-align: top;\n",
       "    }\n",
       "\n",
       "    .dataframe thead th {\n",
       "        text-align: right;\n",
       "    }\n",
       "</style>\n",
       "<table border=\"1\" class=\"dataframe\">\n",
       "  <thead>\n",
       "    <tr style=\"text-align: right;\">\n",
       "      <th></th>\n",
       "      <th>Date</th>\n",
       "      <th>Open</th>\n",
       "      <th>High</th>\n",
       "      <th>Low</th>\n",
       "      <th>Close</th>\n",
       "      <th>Adj Close</th>\n",
       "      <th>Volume</th>\n",
       "    </tr>\n",
       "  </thead>\n",
       "  <tbody>\n",
       "    <tr>\n",
       "      <th>0</th>\n",
       "      <td>2010-06-29</td>\n",
       "      <td>19.000000</td>\n",
       "      <td>25.00</td>\n",
       "      <td>17.540001</td>\n",
       "      <td>23.889999</td>\n",
       "      <td>23.889999</td>\n",
       "      <td>18766300</td>\n",
       "    </tr>\n",
       "    <tr>\n",
       "      <th>1</th>\n",
       "      <td>2010-06-30</td>\n",
       "      <td>25.790001</td>\n",
       "      <td>30.42</td>\n",
       "      <td>23.299999</td>\n",
       "      <td>23.830000</td>\n",
       "      <td>23.830000</td>\n",
       "      <td>17187100</td>\n",
       "    </tr>\n",
       "    <tr>\n",
       "      <th>2</th>\n",
       "      <td>2010-07-01</td>\n",
       "      <td>25.000000</td>\n",
       "      <td>25.92</td>\n",
       "      <td>20.270000</td>\n",
       "      <td>21.959999</td>\n",
       "      <td>21.959999</td>\n",
       "      <td>8218800</td>\n",
       "    </tr>\n",
       "    <tr>\n",
       "      <th>3</th>\n",
       "      <td>2010-07-02</td>\n",
       "      <td>23.000000</td>\n",
       "      <td>23.10</td>\n",
       "      <td>18.709999</td>\n",
       "      <td>19.200001</td>\n",
       "      <td>19.200001</td>\n",
       "      <td>5139800</td>\n",
       "    </tr>\n",
       "    <tr>\n",
       "      <th>4</th>\n",
       "      <td>2010-07-06</td>\n",
       "      <td>20.000000</td>\n",
       "      <td>20.00</td>\n",
       "      <td>15.830000</td>\n",
       "      <td>16.110001</td>\n",
       "      <td>16.110001</td>\n",
       "      <td>6866900</td>\n",
       "    </tr>\n",
       "  </tbody>\n",
       "</table>\n",
       "</div>"
      ],
      "text/plain": [
       "        Date       Open   High        Low      Close  Adj Close    Volume\n",
       "0 2010-06-29  19.000000  25.00  17.540001  23.889999  23.889999  18766300\n",
       "1 2010-06-30  25.790001  30.42  23.299999  23.830000  23.830000  17187100\n",
       "2 2010-07-01  25.000000  25.92  20.270000  21.959999  21.959999   8218800\n",
       "3 2010-07-02  23.000000  23.10  18.709999  19.200001  19.200001   5139800\n",
       "4 2010-07-06  20.000000  20.00  15.830000  16.110001  16.110001   6866900"
      ]
     },
     "execution_count": 7,
     "metadata": {},
     "output_type": "execute_result"
    }
   ],
   "source": [
    "data.head()"
   ]
  },
  {
   "cell_type": "markdown",
   "metadata": {},
   "source": [
    "# Preparing the Data"
   ]
  },
  {
   "cell_type": "code",
   "execution_count": 8,
   "metadata": {
    "execution": {
     "iopub.execute_input": "2022-10-23T11:49:58.618016Z",
     "iopub.status.busy": "2022-10-23T11:49:58.617645Z",
     "iopub.status.idle": "2022-10-23T11:49:58.629094Z",
     "shell.execute_reply": "2022-10-23T11:49:58.627992Z",
     "shell.execute_reply.started": "2022-10-23T11:49:58.617984Z"
    }
   },
   "outputs": [],
   "source": [
    "tesla_data=data[[\"Date\",\"Close\"]]"
   ]
  },
  {
   "cell_type": "code",
   "execution_count": 9,
   "metadata": {
    "execution": {
     "iopub.execute_input": "2022-10-23T11:49:58.632571Z",
     "iopub.status.busy": "2022-10-23T11:49:58.631916Z",
     "iopub.status.idle": "2022-10-23T11:49:58.649547Z",
     "shell.execute_reply": "2022-10-23T11:49:58.648334Z",
     "shell.execute_reply.started": "2022-10-23T11:49:58.632532Z"
    }
   },
   "outputs": [
    {
     "data": {
      "text/html": [
       "<div>\n",
       "<style scoped>\n",
       "    .dataframe tbody tr th:only-of-type {\n",
       "        vertical-align: middle;\n",
       "    }\n",
       "\n",
       "    .dataframe tbody tr th {\n",
       "        vertical-align: top;\n",
       "    }\n",
       "\n",
       "    .dataframe thead th {\n",
       "        text-align: right;\n",
       "    }\n",
       "</style>\n",
       "<table border=\"1\" class=\"dataframe\">\n",
       "  <thead>\n",
       "    <tr style=\"text-align: right;\">\n",
       "      <th></th>\n",
       "      <th>Date</th>\n",
       "      <th>Close</th>\n",
       "    </tr>\n",
       "  </thead>\n",
       "  <tbody>\n",
       "    <tr>\n",
       "      <th>0</th>\n",
       "      <td>2010-06-29</td>\n",
       "      <td>23.889999</td>\n",
       "    </tr>\n",
       "    <tr>\n",
       "      <th>1</th>\n",
       "      <td>2010-06-30</td>\n",
       "      <td>23.830000</td>\n",
       "    </tr>\n",
       "    <tr>\n",
       "      <th>2</th>\n",
       "      <td>2010-07-01</td>\n",
       "      <td>21.959999</td>\n",
       "    </tr>\n",
       "    <tr>\n",
       "      <th>3</th>\n",
       "      <td>2010-07-02</td>\n",
       "      <td>19.200001</td>\n",
       "    </tr>\n",
       "    <tr>\n",
       "      <th>4</th>\n",
       "      <td>2010-07-06</td>\n",
       "      <td>16.110001</td>\n",
       "    </tr>\n",
       "  </tbody>\n",
       "</table>\n",
       "</div>"
      ],
      "text/plain": [
       "        Date      Close\n",
       "0 2010-06-29  23.889999\n",
       "1 2010-06-30  23.830000\n",
       "2 2010-07-01  21.959999\n",
       "3 2010-07-02  19.200001\n",
       "4 2010-07-06  16.110001"
      ]
     },
     "execution_count": 9,
     "metadata": {},
     "output_type": "execute_result"
    }
   ],
   "source": [
    "tesla_data.head()"
   ]
  },
  {
   "cell_type": "code",
   "execution_count": 10,
   "metadata": {
    "execution": {
     "iopub.execute_input": "2022-10-23T11:49:58.65161Z",
     "iopub.status.busy": "2022-10-23T11:49:58.65101Z",
     "iopub.status.idle": "2022-10-23T11:49:58.661898Z",
     "shell.execute_reply": "2022-10-23T11:49:58.660692Z",
     "shell.execute_reply.started": "2022-10-23T11:49:58.651575Z"
    }
   },
   "outputs": [
    {
     "name": "stdout",
     "output_type": "stream",
     "text": [
      "Min. Tarih: 2010-06-29 00:00:00\n",
      "Max. Tarih: 2020-02-03 00:00:00\n"
     ]
    }
   ],
   "source": [
    "print(\"Min. Tarih:\",tesla_data[\"Date\"].min())\n",
    "print(\"Max. Tarih:\",tesla_data[\"Date\"].max())"
   ]
  },
  {
   "cell_type": "code",
   "execution_count": 11,
   "metadata": {
    "execution": {
     "iopub.execute_input": "2022-10-23T11:49:58.705324Z",
     "iopub.status.busy": "2022-10-23T11:49:58.703915Z",
     "iopub.status.idle": "2022-10-23T11:49:58.711374Z",
     "shell.execute_reply": "2022-10-23T11:49:58.70997Z",
     "shell.execute_reply.started": "2022-10-23T11:49:58.705266Z"
    }
   },
   "outputs": [],
   "source": [
    "tesla_data.index=tesla_data[\"Date\"]"
   ]
  },
  {
   "cell_type": "code",
   "execution_count": 12,
   "metadata": {
    "execution": {
     "iopub.execute_input": "2022-10-23T11:49:58.714545Z",
     "iopub.status.busy": "2022-10-23T11:49:58.714061Z",
     "iopub.status.idle": "2022-10-23T11:49:58.73757Z",
     "shell.execute_reply": "2022-10-23T11:49:58.736249Z",
     "shell.execute_reply.started": "2022-10-23T11:49:58.714499Z"
    }
   },
   "outputs": [
    {
     "data": {
      "text/html": [
       "<div>\n",
       "<style scoped>\n",
       "    .dataframe tbody tr th:only-of-type {\n",
       "        vertical-align: middle;\n",
       "    }\n",
       "\n",
       "    .dataframe tbody tr th {\n",
       "        vertical-align: top;\n",
       "    }\n",
       "\n",
       "    .dataframe thead th {\n",
       "        text-align: right;\n",
       "    }\n",
       "</style>\n",
       "<table border=\"1\" class=\"dataframe\">\n",
       "  <thead>\n",
       "    <tr style=\"text-align: right;\">\n",
       "      <th></th>\n",
       "      <th>Date</th>\n",
       "      <th>Close</th>\n",
       "    </tr>\n",
       "    <tr>\n",
       "      <th>Date</th>\n",
       "      <th></th>\n",
       "      <th></th>\n",
       "    </tr>\n",
       "  </thead>\n",
       "  <tbody>\n",
       "    <tr>\n",
       "      <th>2010-06-29</th>\n",
       "      <td>2010-06-29</td>\n",
       "      <td>23.889999</td>\n",
       "    </tr>\n",
       "    <tr>\n",
       "      <th>2010-06-30</th>\n",
       "      <td>2010-06-30</td>\n",
       "      <td>23.830000</td>\n",
       "    </tr>\n",
       "    <tr>\n",
       "      <th>2010-07-01</th>\n",
       "      <td>2010-07-01</td>\n",
       "      <td>21.959999</td>\n",
       "    </tr>\n",
       "    <tr>\n",
       "      <th>2010-07-02</th>\n",
       "      <td>2010-07-02</td>\n",
       "      <td>19.200001</td>\n",
       "    </tr>\n",
       "    <tr>\n",
       "      <th>2010-07-06</th>\n",
       "      <td>2010-07-06</td>\n",
       "      <td>16.110001</td>\n",
       "    </tr>\n",
       "    <tr>\n",
       "      <th>...</th>\n",
       "      <td>...</td>\n",
       "      <td>...</td>\n",
       "    </tr>\n",
       "    <tr>\n",
       "      <th>2020-01-28</th>\n",
       "      <td>2020-01-28</td>\n",
       "      <td>566.900024</td>\n",
       "    </tr>\n",
       "    <tr>\n",
       "      <th>2020-01-29</th>\n",
       "      <td>2020-01-29</td>\n",
       "      <td>580.989990</td>\n",
       "    </tr>\n",
       "    <tr>\n",
       "      <th>2020-01-30</th>\n",
       "      <td>2020-01-30</td>\n",
       "      <td>640.809998</td>\n",
       "    </tr>\n",
       "    <tr>\n",
       "      <th>2020-01-31</th>\n",
       "      <td>2020-01-31</td>\n",
       "      <td>650.570007</td>\n",
       "    </tr>\n",
       "    <tr>\n",
       "      <th>2020-02-03</th>\n",
       "      <td>2020-02-03</td>\n",
       "      <td>780.000000</td>\n",
       "    </tr>\n",
       "  </tbody>\n",
       "</table>\n",
       "<p>2416 rows × 2 columns</p>\n",
       "</div>"
      ],
      "text/plain": [
       "                 Date       Close\n",
       "Date                             \n",
       "2010-06-29 2010-06-29   23.889999\n",
       "2010-06-30 2010-06-30   23.830000\n",
       "2010-07-01 2010-07-01   21.959999\n",
       "2010-07-02 2010-07-02   19.200001\n",
       "2010-07-06 2010-07-06   16.110001\n",
       "...               ...         ...\n",
       "2020-01-28 2020-01-28  566.900024\n",
       "2020-01-29 2020-01-29  580.989990\n",
       "2020-01-30 2020-01-30  640.809998\n",
       "2020-01-31 2020-01-31  650.570007\n",
       "2020-02-03 2020-02-03  780.000000\n",
       "\n",
       "[2416 rows x 2 columns]"
      ]
     },
     "execution_count": 12,
     "metadata": {},
     "output_type": "execute_result"
    }
   ],
   "source": [
    "tesla_data"
   ]
  },
  {
   "cell_type": "code",
   "execution_count": 13,
   "metadata": {
    "execution": {
     "iopub.execute_input": "2022-10-23T11:49:58.739559Z",
     "iopub.status.busy": "2022-10-23T11:49:58.739206Z",
     "iopub.status.idle": "2022-10-23T11:49:58.749234Z",
     "shell.execute_reply": "2022-10-23T11:49:58.748309Z",
     "shell.execute_reply.started": "2022-10-23T11:49:58.739527Z"
    }
   },
   "outputs": [],
   "source": [
    "tesla_data.drop(\"Date\",axis=1,inplace=True)"
   ]
  },
  {
   "cell_type": "code",
   "execution_count": 14,
   "metadata": {
    "execution": {
     "iopub.execute_input": "2022-10-23T11:49:58.752241Z",
     "iopub.status.busy": "2022-10-23T11:49:58.751295Z",
     "iopub.status.idle": "2022-10-23T11:49:58.775138Z",
     "shell.execute_reply": "2022-10-23T11:49:58.773958Z",
     "shell.execute_reply.started": "2022-10-23T11:49:58.752189Z"
    }
   },
   "outputs": [
    {
     "data": {
      "text/html": [
       "<div>\n",
       "<style scoped>\n",
       "    .dataframe tbody tr th:only-of-type {\n",
       "        vertical-align: middle;\n",
       "    }\n",
       "\n",
       "    .dataframe tbody tr th {\n",
       "        vertical-align: top;\n",
       "    }\n",
       "\n",
       "    .dataframe thead th {\n",
       "        text-align: right;\n",
       "    }\n",
       "</style>\n",
       "<table border=\"1\" class=\"dataframe\">\n",
       "  <thead>\n",
       "    <tr style=\"text-align: right;\">\n",
       "      <th></th>\n",
       "      <th>Close</th>\n",
       "    </tr>\n",
       "    <tr>\n",
       "      <th>Date</th>\n",
       "      <th></th>\n",
       "    </tr>\n",
       "  </thead>\n",
       "  <tbody>\n",
       "    <tr>\n",
       "      <th>2010-06-29</th>\n",
       "      <td>23.889999</td>\n",
       "    </tr>\n",
       "    <tr>\n",
       "      <th>2010-06-30</th>\n",
       "      <td>23.830000</td>\n",
       "    </tr>\n",
       "    <tr>\n",
       "      <th>2010-07-01</th>\n",
       "      <td>21.959999</td>\n",
       "    </tr>\n",
       "    <tr>\n",
       "      <th>2010-07-02</th>\n",
       "      <td>19.200001</td>\n",
       "    </tr>\n",
       "    <tr>\n",
       "      <th>2010-07-06</th>\n",
       "      <td>16.110001</td>\n",
       "    </tr>\n",
       "    <tr>\n",
       "      <th>...</th>\n",
       "      <td>...</td>\n",
       "    </tr>\n",
       "    <tr>\n",
       "      <th>2020-01-28</th>\n",
       "      <td>566.900024</td>\n",
       "    </tr>\n",
       "    <tr>\n",
       "      <th>2020-01-29</th>\n",
       "      <td>580.989990</td>\n",
       "    </tr>\n",
       "    <tr>\n",
       "      <th>2020-01-30</th>\n",
       "      <td>640.809998</td>\n",
       "    </tr>\n",
       "    <tr>\n",
       "      <th>2020-01-31</th>\n",
       "      <td>650.570007</td>\n",
       "    </tr>\n",
       "    <tr>\n",
       "      <th>2020-02-03</th>\n",
       "      <td>780.000000</td>\n",
       "    </tr>\n",
       "  </tbody>\n",
       "</table>\n",
       "<p>2416 rows × 1 columns</p>\n",
       "</div>"
      ],
      "text/plain": [
       "                 Close\n",
       "Date                  \n",
       "2010-06-29   23.889999\n",
       "2010-06-30   23.830000\n",
       "2010-07-01   21.959999\n",
       "2010-07-02   19.200001\n",
       "2010-07-06   16.110001\n",
       "...                ...\n",
       "2020-01-28  566.900024\n",
       "2020-01-29  580.989990\n",
       "2020-01-30  640.809998\n",
       "2020-01-31  650.570007\n",
       "2020-02-03  780.000000\n",
       "\n",
       "[2416 rows x 1 columns]"
      ]
     },
     "execution_count": 14,
     "metadata": {},
     "output_type": "execute_result"
    }
   ],
   "source": [
    "tesla_data"
   ]
  },
  {
   "cell_type": "code",
   "execution_count": 15,
   "metadata": {
    "execution": {
     "iopub.execute_input": "2022-10-23T11:49:58.779067Z",
     "iopub.status.busy": "2022-10-23T11:49:58.778698Z",
     "iopub.status.idle": "2022-10-23T11:49:58.784918Z",
     "shell.execute_reply": "2022-10-23T11:49:58.783485Z",
     "shell.execute_reply.started": "2022-10-23T11:49:58.779034Z"
    }
   },
   "outputs": [],
   "source": [
    "result_data=tesla_data.copy()"
   ]
  },
  {
   "cell_type": "code",
   "execution_count": 16,
   "metadata": {
    "execution": {
     "iopub.execute_input": "2022-10-23T11:49:58.786635Z",
     "iopub.status.busy": "2022-10-23T11:49:58.786282Z",
     "iopub.status.idle": "2022-10-23T11:49:59.115664Z",
     "shell.execute_reply": "2022-10-23T11:49:59.114365Z",
     "shell.execute_reply.started": "2022-10-23T11:49:58.786604Z"
    }
   },
   "outputs": [
    {
     "data": {
      "image/png": "[encoded data removed]",
      "text/plain": [
       "<Figure size 864x432 with 1 Axes>"
      ]
     },
     "metadata": {
      "needs_background": "light"
     },
     "output_type": "display_data"
    }
   ],
   "source": [
    "plt.figure(figsize=(12,6))\n",
    "plt.plot(tesla_data[\"Close\"],color=\"blue\");\n",
    "plt.ylabel(\"Stock Price\")\n",
    "plt.title(\"Tesla Stock Price\")\n",
    "plt.xlabel(\"Time\")\n",
    "plt.show()"
   ]
  },
  {
   "cell_type": "markdown",
   "metadata": {},
   "source": [
    "Seems to decrease between 2011 and 2013 Looks like a boom in late 2019"
   ]
  },
  {
   "cell_type": "code",
   "execution_count": null,
   "metadata": {},
   "outputs": [],
   "source": []
  },
  {
   "cell_type": "markdown",
   "metadata": {},
   "source": [
    "convert to numpy array"
   ]
  },
  {
   "cell_type": "code",
   "execution_count": 17,
   "metadata": {
    "execution": {
     "iopub.execute_input": "2022-10-23T11:49:59.11727Z",
     "iopub.status.busy": "2022-10-23T11:49:59.116883Z",
     "iopub.status.idle": "2022-10-23T11:49:59.122961Z",
     "shell.execute_reply": "2022-10-23T11:49:59.121641Z",
     "shell.execute_reply.started": "2022-10-23T11:49:59.117237Z"
    }
   },
   "outputs": [],
   "source": [
    "tesla_data=tesla_data.values"
   ]
  },
  {
   "cell_type": "code",
   "execution_count": 18,
   "metadata": {
    "execution": {
     "iopub.execute_input": "2022-10-23T11:49:59.124834Z",
     "iopub.status.busy": "2022-10-23T11:49:59.124499Z",
     "iopub.status.idle": "2022-10-23T11:49:59.13686Z",
     "shell.execute_reply": "2022-10-23T11:49:59.135782Z",
     "shell.execute_reply.started": "2022-10-23T11:49:59.124803Z"
    }
   },
   "outputs": [
    {
     "data": {
      "text/plain": [
       "array([[23.889999],\n",
       "       [23.83    ],\n",
       "       [21.959999],\n",
       "       [19.200001],\n",
       "       [16.110001]])"
      ]
     },
     "execution_count": 18,
     "metadata": {},
     "output_type": "execute_result"
    }
   ],
   "source": [
    "tesla_data[0:5]"
   ]
  },
  {
   "cell_type": "markdown",
   "metadata": {},
   "source": [
    "It is necessary to define float 64 for neural network"
   ]
  },
  {
   "cell_type": "code",
   "execution_count": 19,
   "metadata": {
    "execution": {
     "iopub.execute_input": "2022-10-23T11:49:59.138913Z",
     "iopub.status.busy": "2022-10-23T11:49:59.138453Z",
     "iopub.status.idle": "2022-10-23T11:49:59.146902Z",
     "shell.execute_reply": "2022-10-23T11:49:59.145703Z",
     "shell.execute_reply.started": "2022-10-23T11:49:59.138867Z"
    }
   },
   "outputs": [],
   "source": [
    "tesla_data=tesla_data.astype(\"float64\")"
   ]
  },
  {
   "cell_type": "markdown",
   "metadata": {},
   "source": [
    "Let's make the Train-Test distinction as a function"
   ]
  },
  {
   "cell_type": "code",
   "execution_count": 20,
   "metadata": {
    "execution": {
     "iopub.execute_input": "2022-10-23T11:49:59.148887Z",
     "iopub.status.busy": "2022-10-23T11:49:59.147841Z",
     "iopub.status.idle": "2022-10-23T11:49:59.158742Z",
     "shell.execute_reply": "2022-10-23T11:49:59.157765Z",
     "shell.execute_reply.started": "2022-10-23T11:49:59.14885Z"
    }
   },
   "outputs": [],
   "source": [
    "def split_data(dataframe,test_size):\n",
    "    pos=int(round(len(dataframe)*(1-test_size)))\n",
    "    train=dataframe[:pos]\n",
    "    test=dataframe[pos:]\n",
    "    return train,test,pos"
   ]
  },
  {
   "cell_type": "code",
   "execution_count": 21,
   "metadata": {
    "execution": {
     "iopub.execute_input": "2022-10-23T11:49:59.160591Z",
     "iopub.status.busy": "2022-10-23T11:49:59.160049Z",
     "iopub.status.idle": "2022-10-23T11:49:59.169129Z",
     "shell.execute_reply": "2022-10-23T11:49:59.168061Z",
     "shell.execute_reply.started": "2022-10-23T11:49:59.160558Z"
    }
   },
   "outputs": [],
   "source": [
    "train,test,pos=split_data(tesla_data,0.20)"
   ]
  },
  {
   "cell_type": "code",
   "execution_count": 22,
   "metadata": {
    "execution": {
     "iopub.execute_input": "2022-10-23T11:49:59.171271Z",
     "iopub.status.busy": "2022-10-23T11:49:59.17071Z",
     "iopub.status.idle": "2022-10-23T11:49:59.181828Z",
     "shell.execute_reply": "2022-10-23T11:49:59.180497Z",
     "shell.execute_reply.started": "2022-10-23T11:49:59.171237Z"
    }
   },
   "outputs": [
    {
     "name": "stdout",
     "output_type": "stream",
     "text": [
      "(1933, 1) (483, 1)\n"
     ]
    }
   ],
   "source": [
    "print(train.shape,test.shape)"
   ]
  },
  {
   "cell_type": "code",
   "execution_count": 23,
   "metadata": {
    "execution": {
     "iopub.execute_input": "2022-10-23T11:49:59.184303Z",
     "iopub.status.busy": "2022-10-23T11:49:59.183607Z",
     "iopub.status.idle": "2022-10-23T11:49:59.191748Z",
     "shell.execute_reply": "2022-10-23T11:49:59.190688Z",
     "shell.execute_reply.started": "2022-10-23T11:49:59.184265Z"
    }
   },
   "outputs": [],
   "source": [
    "scaler_train=MinMaxScaler(feature_range=(0,1))"
   ]
  },
  {
   "cell_type": "code",
   "execution_count": 24,
   "metadata": {
    "execution": {
     "iopub.execute_input": "2022-10-23T11:49:59.198346Z",
     "iopub.status.busy": "2022-10-23T11:49:59.197691Z",
     "iopub.status.idle": "2022-10-23T11:49:59.205617Z",
     "shell.execute_reply": "2022-10-23T11:49:59.204666Z",
     "shell.execute_reply.started": "2022-10-23T11:49:59.198308Z"
    }
   },
   "outputs": [],
   "source": [
    "train=scaler_train.fit_transform(train)"
   ]
  },
  {
   "cell_type": "code",
   "execution_count": 25,
   "metadata": {
    "execution": {
     "iopub.execute_input": "2022-10-23T11:49:59.207818Z",
     "iopub.status.busy": "2022-10-23T11:49:59.207082Z",
     "iopub.status.idle": "2022-10-23T11:49:59.215483Z",
     "shell.execute_reply": "2022-10-23T11:49:59.21458Z",
     "shell.execute_reply.started": "2022-10-23T11:49:59.207773Z"
    }
   },
   "outputs": [],
   "source": [
    "scaler_test=MinMaxScaler(feature_range=(0,1))"
   ]
  },
  {
   "cell_type": "code",
   "execution_count": 26,
   "metadata": {
    "execution": {
     "iopub.execute_input": "2022-10-23T11:49:59.217674Z",
     "iopub.status.busy": "2022-10-23T11:49:59.216959Z",
     "iopub.status.idle": "2022-10-23T11:49:59.227574Z",
     "shell.execute_reply": "2022-10-23T11:49:59.226615Z",
     "shell.execute_reply.started": "2022-10-23T11:49:59.217627Z"
    }
   },
   "outputs": [],
   "source": [
    "test=scaler_test.fit_transform(test)"
   ]
  },
  {
   "cell_type": "code",
   "execution_count": 27,
   "metadata": {
    "execution": {
     "iopub.execute_input": "2022-10-23T11:49:59.229651Z",
     "iopub.status.busy": "2022-10-23T11:49:59.228859Z",
     "iopub.status.idle": "2022-10-23T11:49:59.240786Z",
     "shell.execute_reply": "2022-10-23T11:49:59.239509Z",
     "shell.execute_reply.started": "2022-10-23T11:49:59.229616Z"
    }
   },
   "outputs": [
    {
     "data": {
      "text/plain": [
       "array([[0.02191224],\n",
       "       [0.02174973],\n",
       "       [0.01668472],\n",
       "       [0.0092091 ],\n",
       "       [0.00083966]])"
      ]
     },
     "execution_count": 27,
     "metadata": {},
     "output_type": "execute_result"
    }
   ],
   "source": [
    "train[0:5]"
   ]
  },
  {
   "cell_type": "code",
   "execution_count": 28,
   "metadata": {
    "execution": {
     "iopub.execute_input": "2022-10-23T11:49:59.243604Z",
     "iopub.status.busy": "2022-10-23T11:49:59.242468Z",
     "iopub.status.idle": "2022-10-23T11:49:59.254431Z",
     "shell.execute_reply": "2022-10-23T11:49:59.25365Z",
     "shell.execute_reply.started": "2022-10-23T11:49:59.243549Z"
    }
   },
   "outputs": [
    {
     "data": {
      "text/plain": [
       "array([[0.25685907],\n",
       "       [0.24829045],\n",
       "       [0.25511204],\n",
       "       [0.24978787],\n",
       "       [0.24657673]])"
      ]
     },
     "execution_count": 28,
     "metadata": {},
     "output_type": "execute_result"
    }
   ],
   "source": [
    "test[0:5]"
   ]
  },
  {
   "cell_type": "code",
   "execution_count": 29,
   "metadata": {
    "execution": {
     "iopub.execute_input": "2022-10-23T11:49:59.256203Z",
     "iopub.status.busy": "2022-10-23T11:49:59.255644Z",
     "iopub.status.idle": "2022-10-23T11:49:59.266894Z",
     "shell.execute_reply": "2022-10-23T11:49:59.265647Z",
     "shell.execute_reply.started": "2022-10-23T11:49:59.25617Z"
    }
   },
   "outputs": [],
   "source": [
    "def create_features(data,lookback):\n",
    "    X,Y=[],[]\n",
    "    for i in range(lookback,len(data)):\n",
    "        X.append(data[i-lookback:i,0])\n",
    "        Y.append(data[i,0])\n",
    "    return np.array(X),np.array(Y)"
   ]
  },
  {
   "cell_type": "code",
   "execution_count": 30,
   "metadata": {
    "execution": {
     "iopub.execute_input": "2022-10-23T11:49:59.268703Z",
     "iopub.status.busy": "2022-10-23T11:49:59.268169Z",
     "iopub.status.idle": "2022-10-23T11:49:59.278626Z",
     "shell.execute_reply": "2022-10-23T11:49:59.277493Z",
     "shell.execute_reply.started": "2022-10-23T11:49:59.268669Z"
    }
   },
   "outputs": [],
   "source": [
    "lookback=20"
   ]
  },
  {
   "cell_type": "markdown",
   "metadata": {},
   "source": [
    " Train "
   ]
  },
  {
   "cell_type": "code",
   "execution_count": 31,
   "metadata": {
    "execution": {
     "iopub.execute_input": "2022-10-23T11:49:59.280598Z",
     "iopub.status.busy": "2022-10-23T11:49:59.280113Z",
     "iopub.status.idle": "2022-10-23T11:49:59.294004Z",
     "shell.execute_reply": "2022-10-23T11:49:59.292665Z",
     "shell.execute_reply.started": "2022-10-23T11:49:59.280559Z"
    }
   },
   "outputs": [],
   "source": [
    "X_train,y_train=create_features(train,lookback)"
   ]
  },
  {
   "cell_type": "markdown",
   "metadata": {},
   "source": [
    "Test"
   ]
  },
  {
   "cell_type": "code",
   "execution_count": 32,
   "metadata": {
    "execution": {
     "iopub.execute_input": "2022-10-23T11:49:59.296661Z",
     "iopub.status.busy": "2022-10-23T11:49:59.295903Z",
     "iopub.status.idle": "2022-10-23T11:49:59.304431Z",
     "shell.execute_reply": "2022-10-23T11:49:59.303257Z",
     "shell.execute_reply.started": "2022-10-23T11:49:59.296611Z"
    }
   },
   "outputs": [],
   "source": [
    "X_test,y_test=create_features(test,lookback)"
   ]
  },
  {
   "cell_type": "code",
   "execution_count": 33,
   "metadata": {
    "execution": {
     "iopub.execute_input": "2022-10-23T11:49:59.307246Z",
     "iopub.status.busy": "2022-10-23T11:49:59.305884Z",
     "iopub.status.idle": "2022-10-23T11:49:59.316026Z",
     "shell.execute_reply": "2022-10-23T11:49:59.315087Z",
     "shell.execute_reply.started": "2022-10-23T11:49:59.307199Z"
    }
   },
   "outputs": [
    {
     "name": "stdout",
     "output_type": "stream",
     "text": [
      "(1913, 20) (1913,) (463, 20) (463,)\n"
     ]
    }
   ],
   "source": [
    "print(X_train.shape,y_train.shape,X_test.shape,y_test.shape)"
   ]
  },
  {
   "cell_type": "code",
   "execution_count": 34,
   "metadata": {
    "execution": {
     "iopub.execute_input": "2022-10-23T11:49:59.317716Z",
     "iopub.status.busy": "2022-10-23T11:49:59.317088Z",
     "iopub.status.idle": "2022-10-23T11:49:59.329223Z",
     "shell.execute_reply": "2022-10-23T11:49:59.328058Z",
     "shell.execute_reply.started": "2022-10-23T11:49:59.317581Z"
    }
   },
   "outputs": [
    {
     "data": {
      "text/plain": [
       "array([[0.02191224, 0.02174973, 0.01668472, 0.0092091 , 0.00083966,\n",
       "        0.        , 0.00449621, 0.00433369, 0.0033857 , 0.00633803,\n",
       "        0.01094258, 0.011078  , 0.01310942, 0.0165493 , 0.01218851,\n",
       "        0.01197183, 0.01408451, 0.01486999, 0.01394908, 0.01286565],\n",
       "       [0.02174973, 0.01668472, 0.0092091 , 0.00083966, 0.        ,\n",
       "        0.00449621, 0.00433369, 0.0033857 , 0.00633803, 0.01094258,\n",
       "        0.011078  , 0.01310942, 0.0165493 , 0.01218851, 0.01197183,\n",
       "        0.01408451, 0.01486999, 0.01394908, 0.01286565, 0.01332611],\n",
       "       [0.01668472, 0.0092091 , 0.00083966, 0.        , 0.00449621,\n",
       "        0.00433369, 0.0033857 , 0.00633803, 0.01094258, 0.011078  ,\n",
       "        0.01310942, 0.0165493 , 0.01218851, 0.01197183, 0.01408451,\n",
       "        0.01486999, 0.01394908, 0.01286565, 0.01332611, 0.01232394],\n",
       "       [0.0092091 , 0.00083966, 0.        , 0.00449621, 0.00433369,\n",
       "        0.0033857 , 0.00633803, 0.01094258, 0.011078  , 0.01310942,\n",
       "        0.0165493 , 0.01218851, 0.01197183, 0.01408451, 0.01486999,\n",
       "        0.01394908, 0.01286565, 0.01332611, 0.01232394, 0.01121344],\n",
       "       [0.00083966, 0.        , 0.00449621, 0.00433369, 0.0033857 ,\n",
       "        0.00633803, 0.01094258, 0.011078  , 0.01310942, 0.0165493 ,\n",
       "        0.01218851, 0.01197183, 0.01408451, 0.01486999, 0.01394908,\n",
       "        0.01286565, 0.01332611, 0.01232394, 0.01121344, 0.01386782]])"
      ]
     },
     "execution_count": 34,
     "metadata": {},
     "output_type": "execute_result"
    }
   ],
   "source": [
    "X_train[0:5]"
   ]
  },
  {
   "cell_type": "markdown",
   "metadata": {},
   "source": [
    "There are 20 features in total here, so we added the day 20 days before the relevant date to the data set."
   ]
  },
  {
   "cell_type": "code",
   "execution_count": 35,
   "metadata": {
    "execution": {
     "iopub.execute_input": "2022-10-23T11:49:59.331663Z",
     "iopub.status.busy": "2022-10-23T11:49:59.331212Z",
     "iopub.status.idle": "2022-10-23T11:49:59.34261Z",
     "shell.execute_reply": "2022-10-23T11:49:59.341356Z",
     "shell.execute_reply.started": "2022-10-23T11:49:59.33162Z"
    }
   },
   "outputs": [
    {
     "data": {
      "text/plain": [
       "array([0.14734705, 0.17964162, 0.21088798, 0.20020629, 0.18416718])"
      ]
     },
     "execution_count": 35,
     "metadata": {},
     "output_type": "execute_result"
    }
   ],
   "source": [
    "y_test[0:5]"
   ]
  },
  {
   "cell_type": "markdown",
   "metadata": {},
   "source": [
    "stock closing prices"
   ]
  },
  {
   "cell_type": "code",
   "execution_count": 36,
   "metadata": {
    "execution": {
     "iopub.execute_input": "2022-10-23T11:49:59.345033Z",
     "iopub.status.busy": "2022-10-23T11:49:59.344301Z",
     "iopub.status.idle": "2022-10-23T11:49:59.353848Z",
     "shell.execute_reply": "2022-10-23T11:49:59.352588Z",
     "shell.execute_reply.started": "2022-10-23T11:49:59.344996Z"
    }
   },
   "outputs": [],
   "source": [
    "X_train=np.reshape(X_train,(X_train.shape[0],1,X_train.shape[1]))"
   ]
  },
  {
   "cell_type": "code",
   "execution_count": 37,
   "metadata": {
    "execution": {
     "iopub.execute_input": "2022-10-23T11:49:59.356002Z",
     "iopub.status.busy": "2022-10-23T11:49:59.355582Z",
     "iopub.status.idle": "2022-10-23T11:49:59.366167Z",
     "shell.execute_reply": "2022-10-23T11:49:59.364927Z",
     "shell.execute_reply.started": "2022-10-23T11:49:59.355966Z"
    }
   },
   "outputs": [],
   "source": [
    "X_test=np.reshape(X_test,(X_test.shape[0],1,X_test.shape[1]))"
   ]
  },
  {
   "cell_type": "code",
   "execution_count": 38,
   "metadata": {
    "execution": {
     "iopub.execute_input": "2022-10-23T11:49:59.368734Z",
     "iopub.status.busy": "2022-10-23T11:49:59.367604Z",
     "iopub.status.idle": "2022-10-23T11:49:59.379436Z",
     "shell.execute_reply": "2022-10-23T11:49:59.378313Z",
     "shell.execute_reply.started": "2022-10-23T11:49:59.368695Z"
    }
   },
   "outputs": [],
   "source": [
    "y_train=y_train.reshape(-1,1)"
   ]
  },
  {
   "cell_type": "code",
   "execution_count": 39,
   "metadata": {
    "execution": {
     "iopub.execute_input": "2022-10-23T11:49:59.381081Z",
     "iopub.status.busy": "2022-10-23T11:49:59.380573Z",
     "iopub.status.idle": "2022-10-23T11:49:59.3903Z",
     "shell.execute_reply": "2022-10-23T11:49:59.389425Z",
     "shell.execute_reply.started": "2022-10-23T11:49:59.381035Z"
    }
   },
   "outputs": [],
   "source": [
    "y_test=y_test.reshape(-1,1)"
   ]
  },
  {
   "cell_type": "code",
   "execution_count": 40,
   "metadata": {
    "execution": {
     "iopub.execute_input": "2022-10-23T11:49:59.39172Z",
     "iopub.status.busy": "2022-10-23T11:49:59.391352Z",
     "iopub.status.idle": "2022-10-23T11:49:59.404939Z",
     "shell.execute_reply": "2022-10-23T11:49:59.403817Z",
     "shell.execute_reply.started": "2022-10-23T11:49:59.391685Z"
    }
   },
   "outputs": [
    {
     "name": "stdout",
     "output_type": "stream",
     "text": [
      "(1913, 1, 20) (1913, 1) (463, 1, 20) (463, 1)\n"
     ]
    }
   ],
   "source": [
    "print(X_train.shape,y_train.shape,X_test.shape,y_test.shape)"
   ]
  },
  {
   "cell_type": "markdown",
   "metadata": {},
   "source": [
    "# Modeling"
   ]
  },
  {
   "cell_type": "code",
   "execution_count": 41,
   "metadata": {
    "execution": {
     "iopub.execute_input": "2022-10-23T11:49:59.406673Z",
     "iopub.status.busy": "2022-10-23T11:49:59.406315Z",
     "iopub.status.idle": "2022-10-23T11:49:59.67466Z",
     "shell.execute_reply": "2022-10-23T11:49:59.673313Z",
     "shell.execute_reply.started": "2022-10-23T11:49:59.406642Z"
    }
   },
   "outputs": [],
   "source": [
    "model=Sequential()\n",
    "model.add(LSTM(units=50,\n",
    "              activation=\"relu\",\n",
    "              input_shape=(X_train.shape[1],lookback)))\n",
    "model.add(Dropout(0.2))\n",
    "model.add(Dense(1))"
   ]
  },
  {
   "cell_type": "code",
   "execution_count": 42,
   "metadata": {
    "execution": {
     "iopub.execute_input": "2022-10-23T11:49:59.676483Z",
     "iopub.status.busy": "2022-10-23T11:49:59.676088Z",
     "iopub.status.idle": "2022-10-23T11:49:59.682992Z",
     "shell.execute_reply": "2022-10-23T11:49:59.681569Z",
     "shell.execute_reply.started": "2022-10-23T11:49:59.676438Z"
    }
   },
   "outputs": [
    {
     "name": "stdout",
     "output_type": "stream",
     "text": [
      "Model: \"sequential\"\n",
      "_________________________________________________________________\n",
      " Layer (type)                Output Shape              Param #   \n",
      "=================================================================\n",
      " lstm (LSTM)                 (None, 50)                14200     \n",
      "                                                                 \n",
      " dropout (Dropout)           (None, 50)                0         \n",
      "                                                                 \n",
      " dense (Dense)               (None, 1)                 51        \n",
      "                                                                 \n",
      "=================================================================\n",
      "Total params: 14,251\n",
      "Trainable params: 14,251\n",
      "Non-trainable params: 0\n",
      "_________________________________________________________________\n"
     ]
    }
   ],
   "source": [
    "model.summary()"
   ]
  },
  {
   "cell_type": "markdown",
   "metadata": {},
   "source": [
    "Setting optimization and evaluation metrics"
   ]
  },
  {
   "cell_type": "code",
   "execution_count": 43,
   "metadata": {
    "execution": {
     "iopub.execute_input": "2022-10-23T11:49:59.68542Z",
     "iopub.status.busy": "2022-10-23T11:49:59.684932Z",
     "iopub.status.idle": "2022-10-23T11:49:59.706965Z",
     "shell.execute_reply": "2022-10-23T11:49:59.705757Z",
     "shell.execute_reply.started": "2022-10-23T11:49:59.685354Z"
    }
   },
   "outputs": [],
   "source": [
    "model.compile(loss=\"mean_squared_error\",optimizer=\"adam\")"
   ]
  },
  {
   "cell_type": "code",
   "execution_count": 44,
   "metadata": {
    "execution": {
     "iopub.execute_input": "2022-10-23T11:49:59.710171Z",
     "iopub.status.busy": "2022-10-23T11:49:59.709697Z",
     "iopub.status.idle": "2022-10-23T11:49:59.717341Z",
     "shell.execute_reply": "2022-10-23T11:49:59.715983Z",
     "shell.execute_reply.started": "2022-10-23T11:49:59.710124Z"
    }
   },
   "outputs": [],
   "source": [
    "callbacks=EarlyStopping(monitor=\"val_loss\",patience=3,verbose=1,mode=\"min\")         "
   ]
  },
  {
   "cell_type": "code",
   "execution_count": 45,
   "metadata": {
    "execution": {
     "iopub.execute_input": "2022-10-23T11:49:59.719435Z",
     "iopub.status.busy": "2022-10-23T11:49:59.719067Z",
     "iopub.status.idle": "2022-10-23T11:50:05.847657Z",
     "shell.execute_reply": "2022-10-23T11:50:05.846478Z",
     "shell.execute_reply.started": "2022-10-23T11:49:59.719388Z"
    }
   },
   "outputs": [
    {
     "name": "stdout",
     "output_type": "stream",
     "text": [
      "Epoch 1/100\n",
      "96/96 [==============================] - 3s 10ms/step - loss: 0.0087 - val_loss: 0.0038\n",
      "Epoch 2/100\n",
      "96/96 [==============================] - 0s 4ms/step - loss: 0.0058 - val_loss: 0.0029\n",
      "Epoch 3/100\n",
      "96/96 [==============================] - 0s 4ms/step - loss: 0.0049 - val_loss: 0.0026\n",
      "Epoch 4/100\n",
      "96/96 [==============================] - 0s 4ms/step - loss: 0.0044 - val_loss: 0.0029\n",
      "Epoch 5/100\n",
      "96/96 [==============================] - 0s 4ms/step - loss: 0.0041 - val_loss: 0.0024\n",
      "Epoch 6/100\n",
      "96/96 [==============================] - 0s 4ms/step - loss: 0.0044 - val_loss: 0.0022\n",
      "Epoch 7/100\n",
      "96/96 [==============================] - 0s 4ms/step - loss: 0.0043 - val_loss: 0.0034\n",
      "Epoch 8/100\n",
      "96/96 [==============================] - 0s 3ms/step - loss: 0.0038 - val_loss: 0.0026\n",
      "Epoch 9/100\n",
      "96/96 [==============================] - 0s 3ms/step - loss: 0.0038 - val_loss: 0.0020\n",
      "Epoch 10/100\n",
      "96/96 [==============================] - 0s 3ms/step - loss: 0.0038 - val_loss: 0.0019\n",
      "Epoch 11/100\n",
      "96/96 [==============================] - 0s 3ms/step - loss: 0.0038 - val_loss: 0.0020\n",
      "Epoch 12/100\n",
      "96/96 [==============================] - 0s 3ms/step - loss: 0.0038 - val_loss: 0.0020\n",
      "Epoch 13/100\n",
      "96/96 [==============================] - 0s 3ms/step - loss: 0.0041 - val_loss: 0.0021\n",
      "Epoch 13: early stopping\n"
     ]
    }
   ],
   "source": [
    "history = model.fit(x=X_train,\n",
    "                    y=y_train,\n",
    "                    epochs=100,\n",
    "                    batch_size=20,\n",
    "                    validation_data=(X_test,y_test),\n",
    "                    callbacks=callbacks,\n",
    "                    shuffle=False)"
   ]
  },
  {
   "cell_type": "code",
   "execution_count": 46,
   "metadata": {
    "execution": {
     "iopub.execute_input": "2022-10-23T11:50:05.84947Z",
     "iopub.status.busy": "2022-10-23T11:50:05.849102Z",
     "iopub.status.idle": "2022-10-23T11:50:06.099527Z",
     "shell.execute_reply": "2022-10-23T11:50:06.098336Z",
     "shell.execute_reply.started": "2022-10-23T11:50:05.849435Z"
    }
   },
   "outputs": [
    {
     "data": {
      "image/png": "[encoded data removed]",
      "text/plain": [
       "<Figure size 1440x360 with 1 Axes>"
      ]
     },
     "metadata": {
      "needs_background": "light"
     },
     "output_type": "display_data"
    }
   ],
   "source": [
    "plt.figure(figsize=(20,5))\n",
    "plt.subplot(1,2,2)\n",
    "plt.plot(history.history[\"loss\"],label=\"Training Loss\")\n",
    "plt.plot(history.history[\"val_loss\"],label=\"Validation Loss\")\n",
    "plt.legend(loc=\"upper right\")\n",
    "plt.xlabel(\"Epoch\",fontsize=16)\n",
    "plt.ylabel(\"Loss\",fontsize=16)\n",
    "plt.ylim([0,max(plt.ylim())])\n",
    "plt.title(\"Training and Validation Loss\",fontsize=16)\n",
    "plt.show()"
   ]
  },
  {
   "cell_type": "markdown",
   "metadata": {},
   "source": [
    "The expression loss is the mean squared error value, that is, the mean squared expression of the actual values and the estimated values"
   ]
  },
  {
   "cell_type": "markdown",
   "metadata": {},
   "source": [
    "# Evaluation"
   ]
  },
  {
   "cell_type": "code",
   "execution_count": 47,
   "metadata": {
    "execution": {
     "iopub.execute_input": "2022-10-23T11:50:06.101704Z",
     "iopub.status.busy": "2022-10-23T11:50:06.101244Z",
     "iopub.status.idle": "2022-10-23T11:50:06.203581Z",
     "shell.execute_reply": "2022-10-23T11:50:06.202477Z",
     "shell.execute_reply.started": "2022-10-23T11:50:06.101657Z"
    }
   },
   "outputs": [
    {
     "name": "stdout",
     "output_type": "stream",
     "text": [
      "24/24 [==============================] - 0s 3ms/step - loss: 0.0021\n"
     ]
    }
   ],
   "source": [
    "loss=model.evaluate(X_test,y_test,batch_size=20)"
   ]
  },
  {
   "cell_type": "code",
   "execution_count": 48,
   "metadata": {
    "execution": {
     "iopub.execute_input": "2022-10-23T11:50:06.205269Z",
     "iopub.status.busy": "2022-10-23T11:50:06.204938Z",
     "iopub.status.idle": "2022-10-23T11:50:06.211901Z",
     "shell.execute_reply": "2022-10-23T11:50:06.2106Z",
     "shell.execute_reply.started": "2022-10-23T11:50:06.205238Z"
    }
   },
   "outputs": [
    {
     "name": "stdout",
     "output_type": "stream",
     "text": [
      "\n",
      "Test loss:0.2%\n"
     ]
    }
   ],
   "source": [
    "print(\"\\nTest loss:%.1f%%\"%(100.0*loss))"
   ]
  },
  {
   "cell_type": "code",
   "execution_count": 49,
   "metadata": {
    "execution": {
     "iopub.execute_input": "2022-10-23T11:50:06.213842Z",
     "iopub.status.busy": "2022-10-23T11:50:06.213344Z",
     "iopub.status.idle": "2022-10-23T11:50:06.713611Z",
     "shell.execute_reply": "2022-10-23T11:50:06.712675Z",
     "shell.execute_reply.started": "2022-10-23T11:50:06.213794Z"
    }
   },
   "outputs": [
    {
     "name": "stdout",
     "output_type": "stream",
     "text": [
      "60/60 [==============================] - 0s 2ms/step\n",
      "15/15 [==============================] - 0s 2ms/step\n"
     ]
    }
   ],
   "source": [
    "train_predict=model.predict(X_train)\n",
    "test_predict=model.predict(X_test)"
   ]
  },
  {
   "cell_type": "code",
   "execution_count": 50,
   "metadata": {
    "execution": {
     "iopub.execute_input": "2022-10-23T11:50:06.716075Z",
     "iopub.status.busy": "2022-10-23T11:50:06.715317Z",
     "iopub.status.idle": "2022-10-23T11:50:06.723803Z",
     "shell.execute_reply": "2022-10-23T11:50:06.722186Z",
     "shell.execute_reply.started": "2022-10-23T11:50:06.716028Z"
    }
   },
   "outputs": [],
   "source": [
    "train_predict=scaler_train.inverse_transform(train_predict)\n",
    "test_predict=scaler_test.inverse_transform(test_predict)"
   ]
  },
  {
   "cell_type": "code",
   "execution_count": 51,
   "metadata": {
    "execution": {
     "iopub.execute_input": "2022-10-23T11:50:06.731022Z",
     "iopub.status.busy": "2022-10-23T11:50:06.730632Z",
     "iopub.status.idle": "2022-10-23T11:50:06.737566Z",
     "shell.execute_reply": "2022-10-23T11:50:06.736445Z",
     "shell.execute_reply.started": "2022-10-23T11:50:06.730989Z"
    }
   },
   "outputs": [],
   "source": [
    "y_train=scaler_train.inverse_transform(y_train)\n",
    "y_test=scaler_test.inverse_transform(y_test)"
   ]
  },
  {
   "cell_type": "markdown",
   "metadata": {},
   "source": [
    "RMSE value to train dataset"
   ]
  },
  {
   "cell_type": "code",
   "execution_count": 52,
   "metadata": {
    "execution": {
     "iopub.execute_input": "2022-10-23T11:50:06.739281Z",
     "iopub.status.busy": "2022-10-23T11:50:06.738945Z",
     "iopub.status.idle": "2022-10-23T11:50:06.749929Z",
     "shell.execute_reply": "2022-10-23T11:50:06.748778Z",
     "shell.execute_reply.started": "2022-10-23T11:50:06.739241Z"
    }
   },
   "outputs": [],
   "source": [
    "train_rmse=np.sqrt(mean_squared_error(y_train,train_predict))"
   ]
  },
  {
   "cell_type": "code",
   "execution_count": 53,
   "metadata": {
    "execution": {
     "iopub.execute_input": "2022-10-23T11:50:06.752094Z",
     "iopub.status.busy": "2022-10-23T11:50:06.751023Z",
     "iopub.status.idle": "2022-10-23T11:50:06.762333Z",
     "shell.execute_reply": "2022-10-23T11:50:06.761481Z",
     "shell.execute_reply.started": "2022-10-23T11:50:06.752055Z"
    }
   },
   "outputs": [],
   "source": [
    "test_rmse=np.sqrt(mean_squared_error(y_test,test_predict,))"
   ]
  },
  {
   "cell_type": "code",
   "execution_count": 54,
   "metadata": {
    "execution": {
     "iopub.execute_input": "2022-10-23T11:50:06.764076Z",
     "iopub.status.busy": "2022-10-23T11:50:06.763598Z",
     "iopub.status.idle": "2022-10-23T11:50:06.774996Z",
     "shell.execute_reply": "2022-10-23T11:50:06.774207Z",
     "shell.execute_reply.started": "2022-10-23T11:50:06.764044Z"
    }
   },
   "outputs": [
    {
     "name": "stdout",
     "output_type": "stream",
     "text": [
      "Train RMSE:13.27215725704549\n",
      "Test RMSE:27.789938064664494\n"
     ]
    }
   ],
   "source": [
    "print(f\"Train RMSE:{train_rmse}\")\n",
    "print(f\"Test RMSE:{test_rmse}\")"
   ]
  },
  {
   "cell_type": "markdown",
   "metadata": {},
   "source": [
    "The mistake that tesla will be made in the next period is 32 dollars"
   ]
  },
  {
   "cell_type": "code",
   "execution_count": 55,
   "metadata": {
    "execution": {
     "iopub.execute_input": "2022-10-23T11:50:06.776692Z",
     "iopub.status.busy": "2022-10-23T11:50:06.776172Z",
     "iopub.status.idle": "2022-10-23T11:50:06.785356Z",
     "shell.execute_reply": "2022-10-23T11:50:06.784488Z",
     "shell.execute_reply.started": "2022-10-23T11:50:06.77666Z"
    }
   },
   "outputs": [],
   "source": [
    "train_prediction_data=result_data[lookback:pos]"
   ]
  },
  {
   "cell_type": "code",
   "execution_count": 56,
   "metadata": {
    "execution": {
     "iopub.execute_input": "2022-10-23T11:50:06.78764Z",
     "iopub.status.busy": "2022-10-23T11:50:06.786791Z",
     "iopub.status.idle": "2022-10-23T11:50:06.803887Z",
     "shell.execute_reply": "2022-10-23T11:50:06.802787Z",
     "shell.execute_reply.started": "2022-10-23T11:50:06.787604Z"
    }
   },
   "outputs": [],
   "source": [
    "train_prediction_data[\"Predicted\"]=train_predict"
   ]
  },
  {
   "cell_type": "code",
   "execution_count": 57,
   "metadata": {
    "execution": {
     "iopub.execute_input": "2022-10-23T11:50:06.805947Z",
     "iopub.status.busy": "2022-10-23T11:50:06.805339Z",
     "iopub.status.idle": "2022-10-23T11:50:06.816548Z",
     "shell.execute_reply": "2022-10-23T11:50:06.815641Z",
     "shell.execute_reply.started": "2022-10-23T11:50:06.805909Z"
    }
   },
   "outputs": [
    {
     "data": {
      "text/html": [
       "<div>\n",
       "<style scoped>\n",
       "    .dataframe tbody tr th:only-of-type {\n",
       "        vertical-align: middle;\n",
       "    }\n",
       "\n",
       "    .dataframe tbody tr th {\n",
       "        vertical-align: top;\n",
       "    }\n",
       "\n",
       "    .dataframe thead th {\n",
       "        text-align: right;\n",
       "    }\n",
       "</style>\n",
       "<table border=\"1\" class=\"dataframe\">\n",
       "  <thead>\n",
       "    <tr style=\"text-align: right;\">\n",
       "      <th></th>\n",
       "      <th>Close</th>\n",
       "      <th>Predicted</th>\n",
       "    </tr>\n",
       "    <tr>\n",
       "      <th>Date</th>\n",
       "      <th></th>\n",
       "      <th></th>\n",
       "    </tr>\n",
       "  </thead>\n",
       "  <tbody>\n",
       "    <tr>\n",
       "      <th>2010-07-28</th>\n",
       "      <td>20.719999</td>\n",
       "      <td>37.767204</td>\n",
       "    </tr>\n",
       "    <tr>\n",
       "      <th>2010-07-29</th>\n",
       "      <td>20.350000</td>\n",
       "      <td>37.740887</td>\n",
       "    </tr>\n",
       "    <tr>\n",
       "      <th>2010-07-30</th>\n",
       "      <td>19.940001</td>\n",
       "      <td>37.714466</td>\n",
       "    </tr>\n",
       "    <tr>\n",
       "      <th>2010-08-02</th>\n",
       "      <td>20.920000</td>\n",
       "      <td>37.786579</td>\n",
       "    </tr>\n",
       "    <tr>\n",
       "      <th>2010-08-03</th>\n",
       "      <td>21.950001</td>\n",
       "      <td>37.825642</td>\n",
       "    </tr>\n",
       "  </tbody>\n",
       "</table>\n",
       "</div>"
      ],
      "text/plain": [
       "                Close  Predicted\n",
       "Date                            \n",
       "2010-07-28  20.719999  37.767204\n",
       "2010-07-29  20.350000  37.740887\n",
       "2010-07-30  19.940001  37.714466\n",
       "2010-08-02  20.920000  37.786579\n",
       "2010-08-03  21.950001  37.825642"
      ]
     },
     "execution_count": 57,
     "metadata": {},
     "output_type": "execute_result"
    }
   ],
   "source": [
    "train_prediction_data.head()"
   ]
  },
  {
   "cell_type": "code",
   "execution_count": 58,
   "metadata": {
    "execution": {
     "iopub.execute_input": "2022-10-23T11:50:06.818954Z",
     "iopub.status.busy": "2022-10-23T11:50:06.817891Z",
     "iopub.status.idle": "2022-10-23T11:50:06.828331Z",
     "shell.execute_reply": "2022-10-23T11:50:06.827277Z",
     "shell.execute_reply.started": "2022-10-23T11:50:06.818919Z"
    }
   },
   "outputs": [],
   "source": [
    "test_prediction_data=result_data[pos+lookback:]"
   ]
  },
  {
   "cell_type": "code",
   "execution_count": 59,
   "metadata": {
    "execution": {
     "iopub.execute_input": "2022-10-23T11:50:06.830527Z",
     "iopub.status.busy": "2022-10-23T11:50:06.829859Z",
     "iopub.status.idle": "2022-10-23T11:50:06.842761Z",
     "shell.execute_reply": "2022-10-23T11:50:06.8418Z",
     "shell.execute_reply.started": "2022-10-23T11:50:06.830489Z"
    }
   },
   "outputs": [],
   "source": [
    "test_prediction_data[\"Predicted\"]=test_predict"
   ]
  },
  {
   "cell_type": "code",
   "execution_count": 60,
   "metadata": {
    "execution": {
     "iopub.execute_input": "2022-10-23T11:50:06.844988Z",
     "iopub.status.busy": "2022-10-23T11:50:06.844356Z",
     "iopub.status.idle": "2022-10-23T11:50:06.863464Z",
     "shell.execute_reply": "2022-10-23T11:50:06.862213Z",
     "shell.execute_reply.started": "2022-10-23T11:50:06.844953Z"
    }
   },
   "outputs": [
    {
     "data": {
      "text/html": [
       "<div>\n",
       "<style scoped>\n",
       "    .dataframe tbody tr th:only-of-type {\n",
       "        vertical-align: middle;\n",
       "    }\n",
       "\n",
       "    .dataframe tbody tr th {\n",
       "        vertical-align: top;\n",
       "    }\n",
       "\n",
       "    .dataframe thead th {\n",
       "        text-align: right;\n",
       "    }\n",
       "</style>\n",
       "<table border=\"1\" class=\"dataframe\">\n",
       "  <thead>\n",
       "    <tr style=\"text-align: right;\">\n",
       "      <th></th>\n",
       "      <th>Close</th>\n",
       "      <th>Predicted</th>\n",
       "    </tr>\n",
       "    <tr>\n",
       "      <th>Date</th>\n",
       "      <th></th>\n",
       "      <th></th>\n",
       "    </tr>\n",
       "  </thead>\n",
       "  <tbody>\n",
       "    <tr>\n",
       "      <th>2018-04-03</th>\n",
       "      <td>267.529999</td>\n",
       "      <td>311.873077</td>\n",
       "    </tr>\n",
       "    <tr>\n",
       "      <th>2018-04-04</th>\n",
       "      <td>286.940002</td>\n",
       "      <td>305.693146</td>\n",
       "    </tr>\n",
       "    <tr>\n",
       "      <th>2018-04-05</th>\n",
       "      <td>305.720001</td>\n",
       "      <td>305.788269</td>\n",
       "    </tr>\n",
       "    <tr>\n",
       "      <th>2018-04-06</th>\n",
       "      <td>299.299988</td>\n",
       "      <td>308.045197</td>\n",
       "    </tr>\n",
       "    <tr>\n",
       "      <th>2018-04-09</th>\n",
       "      <td>289.660004</td>\n",
       "      <td>304.831818</td>\n",
       "    </tr>\n",
       "  </tbody>\n",
       "</table>\n",
       "</div>"
      ],
      "text/plain": [
       "                 Close   Predicted\n",
       "Date                              \n",
       "2018-04-03  267.529999  311.873077\n",
       "2018-04-04  286.940002  305.693146\n",
       "2018-04-05  305.720001  305.788269\n",
       "2018-04-06  299.299988  308.045197\n",
       "2018-04-09  289.660004  304.831818"
      ]
     },
     "execution_count": 60,
     "metadata": {},
     "output_type": "execute_result"
    }
   ],
   "source": [
    "test_prediction_data.head()"
   ]
  },
  {
   "cell_type": "code",
   "execution_count": 61,
   "metadata": {
    "execution": {
     "iopub.execute_input": "2022-10-23T11:50:06.865491Z",
     "iopub.status.busy": "2022-10-23T11:50:06.865132Z",
     "iopub.status.idle": "2022-10-23T11:50:07.195058Z",
     "shell.execute_reply": "2022-10-23T11:50:07.193889Z",
     "shell.execute_reply.started": "2022-10-23T11:50:06.865459Z"
    }
   },
   "outputs": [
    {
     "data": {
      "image/png": "[encoded data removed]",
      "text/plain": [
       "<Figure size 1008x360 with 1 Axes>"
      ]
     },
     "metadata": {
      "needs_background": "light"
     },
     "output_type": "display_data"
    }
   ],
   "source": [
    "plt.figure(figsize=(14,5))\n",
    "plt.plot(result_data,label=\"Real Values\")\n",
    "plt.plot(train_prediction_data[\"Predicted\"],color=\"blue\",label=\"Train Predicted\")\n",
    "plt.plot(test_prediction_data[\"Predicted\"],color=\"red\",label=\"Test Predicted\")\n",
    "plt.xlabel(\"Time\")\n",
    "plt.ylabel(\"Stock Values\")\n",
    "plt.legend()\n",
    "plt.show()"
   ]
  }
 ],
 "metadata": {
  "kernelspec": {
   "display_name": "Python 3 (ipykernel)",
   "language": "python",
   "name": "python3"
  },
  "language_info": {
   "codemirror_mode": {
    "name": "ipython",
    "version": 3
   },
   "file_extension": ".py",
   "mimetype": "text/x-python",
   "name": "python",
   "nbconvert_exporter": "python",
   "pygments_lexer": "ipython3",
   "version": "3.9.12"
  }
 },
 "nbformat": 4,
 "nbformat_minor": 4
}
